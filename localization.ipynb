{
 "cells": [
  {
   "cell_type": "code",
   "execution_count": 9,
   "metadata": {},
   "outputs": [],
   "source": [
    "import numpy as np\n",
    "import ast\n",
    "import scipy   \n",
    "import tensorflow as tf\n",
    "import matplotlib.pyplot as plt\n",
    "import cv2     \n",
    "from keras.preprocessing import image    \n",
    "from keras.models import Model   \n",
    "import sys\n"
   ]
  },
  {
   "cell_type": "code",
   "execution_count": 10,
   "metadata": {},
   "outputs": [],
   "source": [
    "model = tf.keras.models.load_model('saved_model_asl/my_model')\n"
   ]
  },
  {
   "cell_type": "code",
   "execution_count": 3,
   "metadata": {},
   "outputs": [
    {
     "name": "stdout",
     "output_type": "stream",
     "text": [
      "Model: \"model_7\"\n",
      "_________________________________________________________________\n",
      " Layer (type)                Output Shape              Param #   \n",
      "=================================================================\n",
      " input_13 (InputLayer)       [(None, 224, 224, 3)]     0         \n",
      "                                                                 \n",
      " tf.math.truediv_9 (TFOpLamb  (None, 224, 224, 3)      0         \n",
      " da)                                                             \n",
      "                                                                 \n",
      " tf.math.subtract_9 (TFOpLam  (None, 224, 224, 3)      0         \n",
      " bda)                                                            \n",
      "                                                                 \n",
      " mobilenetv2_1.00_224 (Funct  (None, 7, 7, 1280)       2257984   \n",
      " ional)                                                          \n",
      "                                                                 \n",
      " layer_4 (Layer)             (None, 7, 7, 1280)        0         \n",
      "                                                                 \n",
      " global_average_pooling2d_9   (None, 1280)             0         \n",
      " (GlobalAveragePooling2D)                                        \n",
      "                                                                 \n",
      " dropout_3 (Dropout)         (None, 1280)              0         \n",
      "                                                                 \n",
      " dense_9 (Dense)             (None, 13)                16653     \n",
      "                                                                 \n",
      "=================================================================\n",
      "Total params: 2,274,637\n",
      "Trainable params: 1,878,093\n",
      "Non-trainable params: 396,544\n",
      "_________________________________________________________________\n"
     ]
    }
   ],
   "source": [
    "model.summary()"
   ]
  },
  {
   "cell_type": "code",
   "execution_count": 11,
   "metadata": {},
   "outputs": [],
   "source": [
    "out1 = model.layers[-4].output\n",
    "\n",
    "out2 = model.layers[-1].output\n",
    "\n",
    "\n",
    "model = tf.keras.Model(inputs=model.input, \n",
    "    outputs=(out1, out2)) \n",
    "\n"
   ]
  },
  {
   "cell_type": "code",
   "execution_count": 12,
   "metadata": {},
   "outputs": [],
   "source": [
    "# img = cv2.imread(\"test_images/tshirt_small.jpeg\")\n",
    "# img = cv2.imread(\"test_images/blazer.jpeg\")\n",
    "img = cv2.imread(\"test_images/A_test.jpg\")\n",
    "\n",
    "resized = cv2.resize(img, (224, 224))\n",
    "reshaped = resized.reshape(1, 224, 224, 3)"
   ]
  },
  {
   "cell_type": "code",
   "execution_count": 13,
   "metadata": {},
   "outputs": [],
   "source": [
    "all_amp_layer_weights = model.layers[-1].get_weights()[0]\n",
    "# labels = ['Blazer','Dress','Hat','Hoodie', 'Longsleeve','Pants', 'Polo','Shirt','Shoes','Shorts', 'Skirt','T-Shirt','Undershirt']\n",
    "labels=['A','B','C','D','E','F','G','H','I','J','K','L','M','N','O','P','Q','R','S','T','U','V','W','X','Y','Z']\n"
   ]
  },
  {
   "cell_type": "code",
   "execution_count": 14,
   "metadata": {},
   "outputs": [
    {
     "name": "stdout",
     "output_type": "stream",
     "text": [
      "0 0.95821947 A\n"
     ]
    }
   ],
   "source": [
    "last_conv_output, pred_vec = model.predict(reshaped)\n",
    "# print(last_conv_output.shape)\n",
    "# print(pred_vec)\n",
    "\n",
    "# change dimensions of last convolutional outpu tto 7 x 7 x 2048\n",
    "last_conv_output = np.squeeze(last_conv_output) \n",
    "# print(last_conv_output.shape)\n",
    "\n",
    "# get model's prediction \n",
    "pred = np.argmax(pred_vec)\n",
    "print(pred, pred_vec[0][pred],labels[pred])\n",
    "\n",
    "# bilinear upsampling to resize each filtered image to size of original image \n",
    "mat_for_mult = scipy.ndimage.zoom(last_conv_output, (32, 32, 1), order=1) \n",
    "\n",
    "final_arr = []\n",
    "threshold = 0.3\n",
    "\n",
    "for val in pred_vec[0]:\n",
    "    if val > threshold:\n",
    "        index_of = np.where(pred_vec[0]==val)\n",
    "        # get AMP layer weights\n",
    "        amp_layer_weights = all_amp_layer_weights[:, index_of[0][0]]  \n",
    "\n",
    "        # get class activation map for object class that is predicted to be in the image\n",
    "        final_output = np.dot(mat_for_mult.reshape((224*224, 1280)), amp_layer_weights).reshape(224,224) # dim: 224 x 224\n",
    "        final_arr.append(final_output)\n",
    "\n",
    "\n"
   ]
  },
  {
   "cell_type": "code",
   "execution_count": 16,
   "metadata": {},
   "outputs": [
    {
     "name": "stdout",
     "output_type": "stream",
     "text": [
      "<class 'numpy.ndarray'>\n",
      "(224, 224)\n",
      "224\n"
     ]
    }
   ],
   "source": [
    "print(type(final_arr[0]))\n",
    "print(final_arr[0].shape)\n",
    "print(len(final_arr[0]))"
   ]
  },
  {
   "cell_type": "code",
   "execution_count": 7,
   "metadata": {},
   "outputs": [
    {
     "name": "stdout",
     "output_type": "stream",
     "text": [
      "(224, 224)\n",
      "224\n",
      "12.894347\n",
      "[[0. 0. 0. ... 0. 0. 0.]\n",
      " [0. 0. 0. ... 0. 0. 0.]\n",
      " [0. 0. 0. ... 0. 0. 0.]\n",
      " ...\n",
      " [0. 0. 0. ... 0. 0. 0.]\n",
      " [0. 0. 0. ... 0. 0. 0.]\n",
      " [0. 0. 0. ... 0. 0. 0.]]\n"
     ]
    }
   ],
   "source": [
    "## The code in this cell is optional. It show how to convert the heat map into a bounding box.\n",
    "#The color map provides a number for each pixel\n",
    "# Find max value in color map\n",
    "max_val = np.amax(final_arr[0])\n",
    "print(max_val)\n",
    "\n",
    "for i in range(len(final_arr[0])):\n",
    "    for j in range(len(final_arr[0][i])):\n",
    "        # print(final_arr[])\n",
    "        if final_arr[0][i][j] >= .2*max_val:\n",
    "            final_arr[0][i][j]=1\n",
    "        else:\n",
    "            final_arr[0][i][j]=0\n",
    "\n",
    "print(final_arr[0])\n"
   ]
  },
  {
   "cell_type": "code",
   "execution_count": 8,
   "metadata": {},
   "outputs": [
    {
     "data": {
      "image/png": "[encoded data removed]",
      "text/plain": [
       "<Figure size 432x288 with 1 Axes>"
      ]
     },
     "metadata": {
      "needs_background": "light"
     },
     "output_type": "display_data"
    }
   ],
   "source": [
    "fig, ax = plt.subplots()\n",
    "\n",
    "for item in final_arr:\n",
    "    # load image, convert BGR --> RGB, resize image to 224 x 224,\n",
    "    im = cv2.resize(cv2.cvtColor(img, cv2.COLOR_BGR2RGB), (224, 224))\n",
    "    # plot image\n",
    "    ax.imshow(im, alpha=0.5)\n",
    "\n",
    "    # plot class activation map\n",
    "    ax.imshow(final_arr[0], cmap='jet', alpha=0.5)"
   ]
  }
 ],
 "metadata": {
  "interpreter": {
   "hash": "52ee2977380704a66854748a73250e0671a9318bd5b3fd45a3df9f851ae61629"
  },
  "kernelspec": {
   "display_name": "Python 3.10.4 ('tf')",
   "language": "python",
   "name": "python3"
  },
  "language_info": {
   "codemirror_mode": {
    "name": "ipython",
    "version": 3
   },
   "file_extension": ".py",
   "mimetype": "text/x-python",
   "name": "python",
   "nbconvert_exporter": "python",
   "pygments_lexer": "ipython3",
   "version": "3.10.4"
  },
  "orig_nbformat": 4
 },
 "nbformat": 4,
 "nbformat_minor": 2
}
