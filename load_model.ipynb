{
 "cells": [
  {
   "cell_type": "code",
   "execution_count": 6,
   "metadata": {},
   "outputs": [],
   "source": [
    "import tensorflow as tf\n",
    "import cv2\n",
    "import utils\n",
    "import numpy as np"
   ]
  },
  {
   "cell_type": "code",
   "execution_count": 16,
   "metadata": {},
   "outputs": [],
   "source": [
    "new_model = tf.keras.models.load_model('saved_model/my_model')"
   ]
  },
  {
   "cell_type": "code",
   "execution_count": 22,
   "metadata": {},
   "outputs": [
    {
     "name": "stdout",
     "output_type": "stream",
     "text": [
      "Dress\n",
      "[[1.0351728e-05 9.8145181e-01 1.2068073e-03 3.7743028e-03 8.6038090e-05\n",
      "  2.1551554e-05 5.7943520e-04 3.3679139e-03 9.2482949e-03 2.8239296e-05\n",
      "  1.9095450e-04 2.0961739e-05 1.3441330e-05]]\n"
     ]
    }
   ],
   "source": [
    "## Predict images in test set with model \n",
    "label_map = ['Blazer','Dress','Hat','Hoodie', 'Longsleeve','Pants', 'Polo','Shirt','Shoes','Shorts', 'Skirt','T-Shirt','Undershirt']\n",
    "threshold = 0.5\n",
    "# img = cv2.imread(\"test_images/blazer.jpeg\")\n",
    "img = cv2.imread(\"test_images/dress.jpg\")\n",
    "resized = cv2.resize(img, (224, 224))\n",
    "reshaped = resized.reshape(1, 224, 224, 3)\n",
    "\n",
    "predictions = new_model.predict(reshaped, verbose=0)\n",
    "for val in predictions[0]:\n",
    "    if val > threshold:\n",
    "        index_of = np.where(predictions[0]==val)\n",
    "        print(label_map[index_of[0][0]])\n",
    "print(predictions)\n"
   ]
  }
 ],
 "metadata": {
  "interpreter": {
   "hash": "52ee2977380704a66854748a73250e0671a9318bd5b3fd45a3df9f851ae61629"
  },
  "kernelspec": {
   "display_name": "Python 3.10.4 ('tf')",
   "language": "python",
   "name": "python3"
  },
  "language_info": {
   "codemirror_mode": {
    "name": "ipython",
    "version": 3
   },
   "file_extension": ".py",
   "mimetype": "text/x-python",
   "name": "python",
   "nbconvert_exporter": "python",
   "pygments_lexer": "ipython3",
   "version": "3.10.4"
  },
  "orig_nbformat": 4
 },
 "nbformat": 4,
 "nbformat_minor": 2
}
