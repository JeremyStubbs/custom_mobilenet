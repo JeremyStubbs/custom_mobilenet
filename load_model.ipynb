{
 "cells": [
  {
   "cell_type": "code",
   "execution_count": 3,
   "metadata": {},
   "outputs": [],
   "source": [
    "import tensorflow as tf\n",
    "import cv2\n",
    "import numpy as np"
   ]
  },
  {
   "cell_type": "code",
   "execution_count": 4,
   "metadata": {},
   "outputs": [],
   "source": [
    "new_model = tf.keras.models.load_model('saved_model_asl/my_model')"
   ]
  },
  {
   "cell_type": "code",
   "execution_count": 7,
   "metadata": {},
   "outputs": [
    {
     "name": "stdout",
     "output_type": "stream",
     "text": [
      "B\n",
      "[[3.2632963e-07 9.9993527e-01 4.2214404e-07 8.2810658e-08 7.1251015e-06\n",
      "  8.9268776e-10 2.7240296e-10 3.3816658e-08 1.5671576e-06 2.3523913e-08\n",
      "  4.0553836e-08 4.1392138e-07 3.9423838e-05 7.2377162e-07 1.1722524e-06\n",
      "  8.9400928e-08 7.9755695e-09 5.0414292e-07 1.0649951e-06 7.6118909e-06\n",
      "  3.8465128e-06 1.0286902e-07 2.7660152e-09 9.5432718e-08 3.0328088e-08\n",
      "  5.9459841e-09]]\n"
     ]
    }
   ],
   "source": [
    "## Predict images in test set with model \n",
    "# label_map = ['Blazer','Dress','Hat','Hoodie', 'Longsleeve','Pants', 'Polo','Shirt','Shoes','Shorts', 'Skirt','T-Shirt','Undershirt']\n",
    "label_map=['A','B','C','D','E','F','G','H','I','J','K','L','M','N','O','P','Q','R','S','T','U','V','W','X','Y','Z']\n",
    "threshold = 0.5\n",
    "# img = cv2.imread(\"test_images/blazer.jpeg\")\n",
    "img = cv2.imread(\"archive/asl_alphabet_test/B_test.jpg\")\n",
    "resized = cv2.resize(img, (224, 224))\n",
    "reshaped = resized.reshape(1, 224, 224, 3)\n",
    "\n",
    "predictions = new_model.predict(reshaped, verbose=0)\n",
    "for val in predictions[0]:\n",
    "    if val > threshold:\n",
    "        index_of = np.where(predictions[0]==val)\n",
    "        print(label_map[index_of[0][0]])\n",
    "print(predictions)\n"
   ]
  }
 ],
 "metadata": {
  "interpreter": {
   "hash": "52ee2977380704a66854748a73250e0671a9318bd5b3fd45a3df9f851ae61629"
  },
  "kernelspec": {
   "display_name": "Python 3.10.4 ('tf')",
   "language": "python",
   "name": "python3"
  },
  "language_info": {
   "codemirror_mode": {
    "name": "ipython",
    "version": 3
   },
   "file_extension": ".py",
   "mimetype": "text/x-python",
   "name": "python",
   "nbconvert_exporter": "python",
   "pygments_lexer": "ipython3",
   "version": "3.10.4"
  },
  "orig_nbformat": 4
 },
 "nbformat": 4,
 "nbformat_minor": 2
}
