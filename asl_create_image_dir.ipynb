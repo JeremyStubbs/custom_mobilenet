{
 "cells": [
  {
   "cell_type": "code",
   "execution_count": 1,
   "metadata": {},
   "outputs": [],
   "source": [
    "import pandas as pd\n",
    "import matplotlib.pyplot as plt\n",
    "import numpy as np\n",
    "import tensorflow as tf\n",
    "from PIL import Image\n",
    "import cv2\n",
    "import os\n"
   ]
  },
  {
   "cell_type": "code",
   "execution_count": 2,
   "metadata": {},
   "outputs": [],
   "source": [
    "#Create pandas dataframe of training csv\n",
    "train = pd.read_csv('archive/sign_mnist_train/sign_mnist_train.csv')\n",
    "# train.head()"
   ]
  },
  {
   "cell_type": "code",
   "execution_count": 3,
   "metadata": {},
   "outputs": [],
   "source": [
    "#Create separate numpy arrays for pixel values and labels\n",
    "train_arr = train.iloc[:, 1:785].to_numpy()\n",
    "\n",
    "train_labels = train.iloc[:, [0]].to_numpy()\n"
   ]
  },
  {
   "cell_type": "code",
   "execution_count": null,
   "metadata": {},
   "outputs": [],
   "source": [
    "unique_labels = [3, 6, 2, 13, 16, 8, 22, 18, 10, 20, 17, 19, 21, 23, 24, 1, 12, 11, 15, 4, 0, 5, 7, 14]\n",
    "PATH = \"/Users/jeremystubbs/Desktop/Python/Machine_Learning_NNs/Mobilenet/custom\"\n",
    "img_path = os.path.join(PATH,\"asl_images\")\n",
    "\n",
    "for item in unique_labels:\n",
    "    item_path = os.path.join(img_path,str(item))\n",
    "    if os.path.isdir(item_path) == False:\n",
    "        os.mkdir(item_path)\n"
   ]
  },
  {
   "cell_type": "code",
   "execution_count": 7,
   "metadata": {},
   "outputs": [
    {
     "name": "stderr",
     "output_type": "stream",
     "text": [
      "/var/folders/3p/mmncbppx01n1006csncs40p00000gn/T/ipykernel_45199/3025704283.py:2: FutureWarning: The input object of type 'Image' is an array-like implementing one of the corresponding protocols (`__array__`, `__array_interface__` or `__array_struct__`); but not a sequence (or 0-D). In the future, this object will be coerced as if it was first converted using `np.array(obj)`. To retain the old behaviour, you have to either modify the type 'Image', or assign to an empty array created with `np.empty(correct_shape, dtype=object)`.\n",
      "  resized_images = np.array([Image.fromarray(x.astype(np.uint8)).resize([224,224]) for x in arr])\n",
      "/var/folders/3p/mmncbppx01n1006csncs40p00000gn/T/ipykernel_45199/3025704283.py:2: VisibleDeprecationWarning: Creating an ndarray from ragged nested sequences (which is a list-or-tuple of lists-or-tuples-or ndarrays with different lengths or shapes) is deprecated. If you meant to do this, you must specify 'dtype=object' when creating the ndarray.\n",
      "  resized_images = np.array([Image.fromarray(x.astype(np.uint8)).resize([224,224]) for x in arr])\n"
     ]
    }
   ],
   "source": [
    "for i in range(len(train_arr)):\n",
    "    #Reshape to 28x28\n",
    "    arr = np.reshape(train_arr[i][0:784],(28,28))\n",
    "\n",
    "    #Resize the images to 224 x 224 \n",
    "    resized_image = Image.fromarray(arr.astype(np.uint8)).resize([224,224])\n",
    "\n",
    "    #Change back to array or arrays instead of arrays of images\n",
    "    another_arr = np.asarray(resized_image).astype(np.uint8)\n",
    "\n",
    "    save_folder_name = os.path.join(img_path,str(train_labels[i][0]))\n",
    "    saved_filepath = os.path.join(save_folder_name,\"image\"+str(i)+\".jpg\")\n",
    "\n",
    "    image_arr = np.empty([224,224,3], np.uint8)\n",
    "    for j in range(len(another_arr)):\n",
    "        for k in range(len(another_arr[j])):\n",
    "            for l in range(3):\n",
    "                image_arr[j][k][l]=another_arr[j][k].astype(np.uint8)\n",
    "\n",
    "    x = Image.fromarray(image_arr)\n",
    "    x.save(saved_filepath)\n",
    "    \n"
   ]
  }
 ],
 "metadata": {
  "interpreter": {
   "hash": "52ee2977380704a66854748a73250e0671a9318bd5b3fd45a3df9f851ae61629"
  },
  "kernelspec": {
   "display_name": "Python 3 (ipykernel)",
   "language": "python",
   "name": "python3"
  },
  "language_info": {
   "codemirror_mode": {
    "name": "ipython",
    "version": 3
   },
   "file_extension": ".py",
   "mimetype": "text/x-python",
   "name": "python",
   "nbconvert_exporter": "python",
   "pygments_lexer": "ipython3",
   "version": "3.10.4"
  }
 },
 "nbformat": 4,
 "nbformat_minor": 2
}
